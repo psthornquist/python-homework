{
 "cells": [
  {
   "cell_type": "code",
   "execution_count": 3,
   "id": "ee1def33-b2e6-49e2-9d89-8b898f49c8c8",
   "metadata": {},
   "outputs": [
    {
     "name": "stdout",
     "output_type": "stream",
     "text": [
      "Financial Analysis\n",
      "----------------------------\n",
      "Total Months: 86\n",
      "Total: $38382578\n",
      "Average Change: $-2315.12\n",
      "Greatest Increase in Profits: Feb-2012 ($1926159)\n",
      "Greatest Decrease in Profits: Sep-2013 ($-2196167)\n"
     ]
    }
   ],
   "source": [
    "# Title Sections\n",
    "\n",
    "from pathlib import Path\n",
    "import csv\n",
    "\n",
    "csvpath = (\"../budget_data.csv\")\n",
    "\n",
    "with open(csvpath, 'r') as csvfile:\n",
    "    csvreader = csv.reader(csvfile, delimiter=',')\n",
    "    next(csvreader)\n",
    "    date = []\n",
    "    profit = []\n",
    "    profit_change = []\n",
    "    list1 = []\n",
    "    \n",
    "    list1.append(\"Financial Analysis\")\n",
    "    list1.append(\"----------------------------\")\n",
    "\n",
    "    for row in csvreader:\n",
    "        date.append(row[0])\n",
    "        profit.append(float(row[1]))       \n",
    "\n",
    "# The total number of months included in the dataset.\n",
    "\n",
    "    str1 = \"Total Months: \" + str(len(date))\n",
    "    list1.append(str1)\n",
    "\n",
    "# The net total amount of Profit/Losses over the entire period.\n",
    "\n",
    "    str2 = \"Total: $\" + str(round(sum(profit)))\n",
    "    list1.append(str2)\n",
    "\n",
    "# The average of the changes in Profit/Losses over the entire period.\n",
    "\n",
    "    for x in range(1,len(profit)):\n",
    "        profit_change.append(profit[x] - profit[x-1])\n",
    "        average_profit_change = sum(profit_change) / len(profit_change)              \n",
    "               \n",
    "    str3 = \"Average Change: $\" + str(round(average_profit_change,2))\n",
    "    list1.append(str3)\n",
    "\n",
    "# The greatest increase in profits (date and amount) over the entire period.\n",
    "    maximum_profit_change = (max(profit_change))\n",
    "    maximum_profit_change_date = str(date[profit_change.index(max(profit_change))+1])\n",
    "    \n",
    "    str4 = \"Greatest Increase in Profits: \" + str(maximum_profit_change_date) + \" \" + \"($\" + str(round(maximum_profit_change)) + \")\"  \n",
    "    list1.append(str4)\n",
    "    \n",
    "# The greatest decrease in losses (date and amount) over the entire period.\n",
    "\n",
    "    minimum_profit_change = (min(profit_change))\n",
    "    minimum_profit_change_date = str(date[profit_change.index(min(profit_change))+1])\n",
    "    \n",
    "    str5 = \"Greatest Decrease in Profits: \" + str(minimum_profit_change_date)+ \" \" + \"($\" + str(round(minimum_profit_change)) + \")\"\n",
    "    list1.append(str5)\n",
    "    \n",
    "    output_path = Path(\"PyBank_output.txt\")    \n",
    "\n",
    "    with open(output_path, 'w') as file:\n",
    "        for i in list1:\n",
    "            print(i)\n",
    "            file.write(i + \"\\n\")"
   ]
  },
  {
   "cell_type": "code",
   "execution_count": null,
   "id": "dedd2395-8ab9-4c1e-95b4-2e5e38efd161",
   "metadata": {},
   "outputs": [],
   "source": []
  }
 ],
 "metadata": {
  "kernelspec": {
   "display_name": "Python 3 (ipykernel)",
   "language": "python",
   "name": "python3"
  },
  "language_info": {
   "codemirror_mode": {
    "name": "ipython",
    "version": 3
   },
   "file_extension": ".py",
   "mimetype": "text/x-python",
   "name": "python",
   "nbconvert_exporter": "python",
   "pygments_lexer": "ipython3",
   "version": "3.7.11"
  }
 },
 "nbformat": 4,
 "nbformat_minor": 5
}
